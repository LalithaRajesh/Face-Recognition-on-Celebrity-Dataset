{
 "cells": [
  {
   "cell_type": "code",
   "execution_count": 1,
   "metadata": {
    "collapsed": true
   },
   "outputs": [],
   "source": [
    "# 1. Download data.zip from the celebrity faces dataset from kaggle at \n",
    "# https://www.kaggle.com/dansbecker/5-celebrity-faces-dataset/data\n",
    "\n",
    "# Important OpenCV face detection and classification links\n",
    "# https://realpython.com/blog/python/face-recognition-with-python/\n",
    "# https://www.superdatascience.com/opencv-face-detection/\n",
    "# https://www.superdatascience.com/opencv-face-recognition/"
   ]
  },
  {
   "cell_type": "code",
   "execution_count": 2,
   "metadata": {
    "collapsed": true
   },
   "outputs": [],
   "source": [
    "#Load all necessary libraries\n",
    "import numpy as np\n",
    "import cv2 # opencv\n",
    "import os # control and access the directory structure in local machine\n",
    "from matplotlib import pyplot as plt\n",
    "import time\n"
   ]
  },
  {
   "cell_type": "code",
   "execution_count": 3,
   "metadata": {
    "collapsed": true
   },
   "outputs": [],
   "source": [
    "os.chdir('C:/Users/Gowtham/python/faces/OptisolEmployees/') #folder where I unzipped data.zip\n",
    "\n",
    "#OpenCV cascades (xml files) are typically stored at this location\n",
    "#C:\\Users\\<user>\\Miniconda3\\Library\\etc\\haarcascades\n",
    "haarcascades_path = os.listdir('C:/Users/Gowtham/Anaconda3/Library/etc/haarcascades/')\n",
    "frontface_alt_cascade = 'C:/Users/Gowtham/Anaconda3/Library/etc/haarcascades/haarcascade_frontalface_alt.xml'\n",
    "frontface_default_cascade = 'C:/Users/Gowtham/Anaconda3/Library/etc/haarcascades/haarcascade_frontalface_default.xml'\n",
    "frontface_alt2_cascade = 'C:/Users/Gowtham/Anaconda3/Library/etc/haarcascades/haarcascade_frontalface_alt2.xml'\n",
    "frontface_alt_tree_cascade = 'C:/Users/Gowtham/Anaconda3/Library/etc/haarcascades/haarcascade_frontalface_alt2.xml'\n"
   ]
  },
  {
   "cell_type": "code",
   "execution_count": 4,
   "metadata": {
    "collapsed": true
   },
   "outputs": [],
   "source": [
    "#utility function to apply differenct cascade function on the images at difference scaleFactor\n",
    "def detect(faceCascade, gray_,  scaleFactor_ = 1.1):\n",
    "    faces = faceCascade.detectMultiScale(\n",
    "                    gray_,\n",
    "                    scaleFactor= scaleFactor_,\n",
    "                    minNeighbors=5,\n",
    "                    minSize=(30, 30),\n",
    "                    flags = cv2.CASCADE_SCALE_IMAGE\n",
    "                )\n",
    "    return faces"
   ]
  },
  {
   "cell_type": "code",
   "execution_count": 5,
   "metadata": {},
   "outputs": [
    {
     "ename": "error",
     "evalue": "C:\\ci\\opencv_1512688052760\\work\\modules\\imgproc\\src\\color.cpp:11048: error: (-215) scn == 3 || scn == 4 in function cv::cvtColor\n",
     "output_type": "error",
     "traceback": [
      "\u001b[1;31m---------------------------------------------------------------------------\u001b[0m",
      "\u001b[1;31merror\u001b[0m                                     Traceback (most recent call last)",
      "\u001b[1;32m<ipython-input-5-47459eb375f8>\u001b[0m in \u001b[0;36m<module>\u001b[1;34m()\u001b[0m\n\u001b[0;32m     14\u001b[0m                 \u001b[1;31m#print(filename) # print the filename read. For debugging purpose only\u001b[0m\u001b[1;33m\u001b[0m\u001b[1;33m\u001b[0m\u001b[0m\n\u001b[0;32m     15\u001b[0m                 \u001b[0mimg\u001b[0m \u001b[1;33m=\u001b[0m \u001b[0mcv2\u001b[0m\u001b[1;33m.\u001b[0m\u001b[0mimread\u001b[0m\u001b[1;33m(\u001b[0m\u001b[0mfilename\u001b[0m\u001b[1;33m)\u001b[0m \u001b[1;31m# read the image using OpenCV\u001b[0m\u001b[1;33m\u001b[0m\u001b[0m\n\u001b[1;32m---> 16\u001b[1;33m                 \u001b[0mgray\u001b[0m \u001b[1;33m=\u001b[0m \u001b[0mcv2\u001b[0m\u001b[1;33m.\u001b[0m\u001b[0mcvtColor\u001b[0m\u001b[1;33m(\u001b[0m\u001b[0mimg\u001b[0m\u001b[1;33m,\u001b[0m \u001b[0mcv2\u001b[0m\u001b[1;33m.\u001b[0m\u001b[0mCOLOR_BGR2GRAY\u001b[0m\u001b[1;33m)\u001b[0m\u001b[1;33m\u001b[0m\u001b[0m\n\u001b[0m\u001b[0;32m     17\u001b[0m                 \u001b[0mfaces\u001b[0m \u001b[1;33m=\u001b[0m \u001b[0mdetect\u001b[0m\u001b[1;33m(\u001b[0m\u001b[0mfaceCascade_default\u001b[0m\u001b[1;33m,\u001b[0m \u001b[0mgray\u001b[0m\u001b[1;33m,\u001b[0m \u001b[1;36m1.1\u001b[0m\u001b[1;33m)\u001b[0m\u001b[1;33m\u001b[0m\u001b[0m\n\u001b[0;32m     18\u001b[0m                 \u001b[1;32mif\u001b[0m \u001b[1;33m(\u001b[0m\u001b[0mlen\u001b[0m\u001b[1;33m(\u001b[0m\u001b[0mfaces\u001b[0m\u001b[1;33m)\u001b[0m\u001b[1;33m!=\u001b[0m\u001b[1;36m1\u001b[0m\u001b[1;33m)\u001b[0m\u001b[1;33m:\u001b[0m\u001b[1;33m\u001b[0m\u001b[0m\n",
      "\u001b[1;31merror\u001b[0m: C:\\ci\\opencv_1512688052760\\work\\modules\\imgproc\\src\\color.cpp:11048: error: (-215) scn == 3 || scn == 4 in function cv::cvtColor\n"
     ]
    }
   ],
   "source": [
    "# code that iterates thru the images in the celebrityfaces dataset and detects faces. Finally it\n",
    "# ... only displays those images that it can't detect the faces.\n",
    "faceCascade_default = cv2.CascadeClassifier(frontface_default_cascade)\n",
    "faceCascade_alt = cv2.CascadeClassifier(frontface_alt_cascade)\n",
    "faceCascade_alt2 = cv2.CascadeClassifier(frontface_alt2_cascade)\n",
    "faceCascade_alt_tree = cv2.CascadeClassifier(frontface_alt_tree_cascade)\n",
    "i = 0\n",
    "t1 = time.time()\n",
    "for imgfolder in os.listdir('./'): #iterate thru each of the 5 celeb folders\n",
    "    if(imgfolder != '.DS_Store'):\n",
    "        for filename in os.listdir('./' + imgfolder):# iterate thru each image in a celeb folder\n",
    "            filename = 'train/' + imgfolder + '/' + filename # build the path to the image file\n",
    "            if(filename.endswith('.jpg')):\n",
    "                #print(filename) # print the filename read. For debugging purpose only\n",
    "                img = cv2.imread(filename) # read the image using OpenCV\n",
    "                gray = cv2.cvtColor(img, cv2.COLOR_BGR2GRAY)\n",
    "                faces = detect(faceCascade_default, gray, 1.1)\n",
    "                if (len(faces)!=1):\n",
    "                    faces = detect(faceCascade_default, gray, 1.2)\n",
    "                    if(len(faces) != 1):\n",
    "                        faces = detect(faceCascade_alt2,gray, 1.1)\n",
    "                        if(len(faces) != 1):\n",
    "                            faces = detect(faceCascade_alt2,gray, 1.2)\n",
    "                            if(len(faces) != 1):\n",
    "                                faces = detect(faceCascade_alt, gray, 1.1)\n",
    "                                if(len(faces) != 1):\n",
    "                                    faces = detect(faceCascade_alt, gray, 1.2)\n",
    "                                    if(len(faces) != 1):\n",
    "                                        faces = detect(faceCascade_alt_tree, gray, 1.1)\n",
    "                                        if(len(faces) != 1):\n",
    "                                            faces = detect(faceCascade_alt_tree, gray, 1.2)\n",
    "                                            if(len(faces) != 1):\n",
    "                                                i = i + 1\n",
    "                                                continue\n",
    "                                                for (x, y, w, h) in faces:\n",
    "                                                    cv2.rectangle(img, (x, y), (x+w, y+h), (0, 255, 0), 2)\n",
    "                                                plt.imshow(img, cmap = 'gray', interpolation = 'bicubic') # display all images read\n",
    "                                                print(filename) # print the filename read. For debugging purpose only\n",
    "                                                plt.xticks([]), plt.yticks([])\n",
    "                                                plt.show()\n",
    "                                                \n",
    "\n",
    "t2 = time.time()\n",
    "print ('Time taken %f seconds' %  round((t2 - t1),2))\n",
    "print(i)"
   ]
  },
  {
   "cell_type": "code",
   "execution_count": null,
   "metadata": {
    "collapsed": true
   },
   "outputs": [],
   "source": [
    "# TODO \n",
    "# 1. use the LBP cascade files to detect faces. How many faces can this detect. How much faster is\n",
    "#     ... it compared to Haar. \n",
    "# 2. We need to crop the faces from detected images and save them. This can be used as training data\n",
    "#     ... set for the next phase recognizer\n",
    "# 3. Review the SuperDataScience.com articles on Face recognition and apply different OpenCV face\n",
    "#    ... recognizers (Eigenfaces, FisherFaces, LBPH etc.,) on this dataset. See what works better\n",
    "# 4. Learn how to draw the label of the recognized faces using OpenCV (just above the rectangle)\n",
    "# 5. Learn how to extract frames from a video file and run this pipleline to detect and recognize faces\n"
   ]
  },
  {
   "cell_type": "code",
   "execution_count": null,
   "metadata": {
    "collapsed": true
   },
   "outputs": [],
   "source": [
    "lbpcascadesPath = os.listdir(\"C:/Users/Gowtham/Anaconda3//Library/etc/lbpcascades/\")\n",
    "\n",
    "lbp_frontface_path = \"C:/Users/Gowtham/Anaconda3/Library/etc/lbpcascades/lbpcascade_frontalface.xml\"\n",
    "lbp_fronface_improved_path = \"C:/Users/Gowtham/Anaconda3/Library/etc/lbpcascades/lbpcascade_frontalface_improved.xml\"\n",
    "lbp_frontface_profile_path = \"C:/Users/Gowtham/Anaconda3/Library/etc/lbpcascades/lbpcascade_profileface.xml\""
   ]
  },
  {
   "cell_type": "code",
   "execution_count": null,
   "metadata": {
    "collapsed": true
   },
   "outputs": [],
   "source": [
    "# code that iterates thru the images in the celebrityfaces dataset and detects faces. Finally it\n",
    "# ... only displays those images that it can't detect the faces.\n",
    "lbp_frontfaceCascade = cv2.CascadeClassifier(lbp_frontface_path)\n",
    "lbp_fronfaceimprovedCascade = cv2.CascadeClassifier(lbp_fronface_improved_path)\n",
    "lbp_profileCascade = cv2.CascadeClassifier(lbp_frontface_profile_path)\n",
    "\n"
   ]
  },
  {
   "cell_type": "code",
   "execution_count": null,
   "metadata": {},
   "outputs": [],
   "source": [
    "\n",
    "i = 0\n",
    "t1 = time.time()\n",
    "\n",
    "for imgfolder in os.listdir('train/'): #iterate thru each of the 5 celeb folders\n",
    "    if(imgfolder != '.DS_Store'):\n",
    "        for filename in os.listdir('train/' + imgfolder):# iterate thru each image in a celeb folder\n",
    "            filename = 'train/' + imgfolder + '/' + filename # build the path to the image file\n",
    "            if(filename.endswith('.jpg')):\n",
    "                #print(filename) # print the filename read. For debugging purpose only\n",
    "                img = cv2.imread(filename) # read the image using OpenCV\n",
    "                gray = cv2.cvtColor(img, cv2.COLOR_BGR2GRAY)\n",
    "                faces = detect(lbp_frontfaceCascade, gray, 1.1)\n",
    "                if(len(faces) != 1):\n",
    "                    faces = detect(lbp_frontfaceCascade, gray, 1.2)\n",
    "                    if(len(faces) != 1):\n",
    "                        faces = detect(lbp_fronfaceimprovedCascade, gray, 1.1)\n",
    "                        if(len(faces) != 1):\n",
    "                            faces = detect(lbp_fronfaceimprovedCascade, gray, 1.2)\n",
    "                            if(len(faces) != 1):\n",
    "                                faces = detect(lbp_profileCascade, gray, 1.1)\n",
    "                                if(len(faces) != 1):\n",
    "                                    faces = detect(lbp_profileCascade, gray, 1.2)\n",
    "                                    if(len(faces) != 1):\n",
    "                                        i = i +1\n",
    "                                        continue\n",
    "                                        for (x, y, w, h) in faces:\n",
    "                                            cv2.rectangle(img, (x, y), (x+w, y+h), (0, 255, 0), 2)\n",
    "                                        plt.imshow(img, cmap = 'gray', interpolation = 'bicubic') # display all images read\n",
    "                                        print(filename) # print the filename read. For debugging purpose only\n",
    "                                        plt.xticks([]), plt.yticks([])\n",
    "                                        plt.show()\n",
    "                    \n",
    "t2 = time.time()\n",
    "print ('Time taken %f seconds' %  np.round((t2 - t1),2))\n",
    "print(i)"
   ]
  },
  {
   "cell_type": "code",
   "execution_count": null,
   "metadata": {
    "collapsed": true
   },
   "outputs": [],
   "source": [
    "#function to detect face using OpenCV\n",
    "def detect_face(img, face_cascade, convertcolor = True):\n",
    "    #convert the test image to gray scale as opencv face detector expects gray images\n",
    "    if(convertcolor):\n",
    "        gray = cv2.cvtColor(img, cv2.COLOR_BGR2GRAY)\n",
    "    else:\n",
    "        gray = img.copy()\n",
    "\n",
    "    #load OpenCV face detector, I am using LBP which is fast\n",
    "    #there is also a more accurate but slow: Haar classifier\n",
    "    #face_cascade = cv2.CascadeClassifier('opencv-files/lbpcascade_frontalface.xml')\n",
    "\n",
    "    #let's detect multiscale images(some images may be closer to camera than others)\n",
    "    #result is a list of faces\n",
    "    faces = face_cascade.detectMultiScale(gray, scaleFactor=1.2, minNeighbors=5);\n",
    "\n",
    "    #if no faces are detected then return original img\n",
    "    if (len(faces) == 0):\n",
    "        return None, None\n",
    "\n",
    "    #under the assumption that there will be only one face,\n",
    "    #extract the face area\n",
    "    (x, y, w, h) = faces[0]\n",
    "\n",
    "    #return only the face part of the image\n",
    "    return gray[y:y+w, x:x+h], faces[0]"
   ]
  },
  {
   "cell_type": "code",
   "execution_count": null,
   "metadata": {},
   "outputs": [],
   "source": [
    "for imgfolder in os.listdir('./'):\n",
    "    print(imgfolder)"
   ]
  },
  {
   "cell_type": "code",
   "execution_count": null,
   "metadata": {
    "collapsed": true
   },
   "outputs": [],
   "source": [
    "#this function will read all persons' training images, detect face from each image\n",
    "#and will return two lists of exactly same size, one list \n",
    "#of faces and another list of labels for each face\n",
    "def prepare_training_data_kc():\n",
    "    \n",
    "    #list to hold all subject faces\n",
    "    faces = []\n",
    "    #list to hold labels for all subjects\n",
    "    labels = []\n",
    "    label_names = ['']\n",
    "    lbp_frontfaceCascade = cv2.CascadeClassifier(lbp_frontface_path)\n",
    "    faceCascade_default = cv2.CascadeClassifier(frontface_default_cascade)\n",
    "    detected_images = []\n",
    "    for imgfolder in os.listdir('./'): #iterate thru each of the 5 employees folders\n",
    "        if(imgfolder != '.DS_Store'):\n",
    "            label_names.append(imgfolder)\n",
    "            for filename in os.listdir(imgfolder):# iterate thru each image in a celeb folder\n",
    "                filename =  imgfolder + '/' + filename # build the path to the image file\n",
    "                if(filename.lower().endswith('.jpg')):\n",
    "                    print(filename)\n",
    "                    img = cv2.imread(filename) # read the image using OpenCV\n",
    "                    #detect face\n",
    "                    face, rect = detect_face(img, faceCascade_default) # lbp_frontfaceCascade)\n",
    "\n",
    "                    #------STEP-4--------\n",
    "                    #for the purpose of this tutorial\n",
    "                    #we will ignore faces that are not detected\n",
    "                    if face is not None:\n",
    "                        #add face to list of faces\n",
    "                        faces.append(face)\n",
    "                        #add label for this face\n",
    "                        labels.append(label_names.index(imgfolder))\n",
    "                        detected_images.append(filename)\n",
    "                        continue\n",
    "                        plt.imshow(face, cmap = 'gray', interpolation = 'bicubic') # display all images read\n",
    "                        plt.xticks([]), plt.yticks([])\n",
    "                        plt.show()\n",
    "\n",
    "                        \n",
    "\n",
    "    return faces, labels, detected_images, label_names"
   ]
  },
  {
   "cell_type": "code",
   "execution_count": null,
   "metadata": {},
   "outputs": [],
   "source": [
    "## let's first prepare our training data\n",
    "#data will be in two lists of same size\n",
    "#one list will contain all the faces\n",
    "#and the other list will contain respective labels for each face\n",
    "print(\"Preparing data...\")\n",
    "faces, labels, detectedimages, label_names = prepare_training_data_kc()\n",
    "print(\"Data prepared\")\n",
    "\n",
    "#print total faces and labels\n",
    "print(\"Total faces: \", len(faces))\n",
    "print(\"Total labels: \", len(labels))\n",
    "print(detectedimages[0])\n",
    "#print(labels)"
   ]
  },
  {
   "cell_type": "code",
   "execution_count": null,
   "metadata": {
    "collapsed": true
   },
   "outputs": [],
   "source": [
    "#create our LBPH face recognizer \n",
    "face_recognizer = cv2.face.LBPHFaceRecognizer_create()\n",
    "\n",
    "#or use EigenFaceRecognizer by replacing above line with \n",
    "#face_recognizer = cv2.face.createEigenFaceRecognizer()\n",
    "\n",
    "#or use FisherFaceRecognizer by replacing above line with \n",
    "#face_recognizer = cv2.face.createFisherFaceRecognizer()"
   ]
  },
  {
   "cell_type": "code",
   "execution_count": null,
   "metadata": {},
   "outputs": [],
   "source": [
    "#train our face recognizer of our training face\n",
    "from sklearn.cross_validation import train_test_split\n",
    "Xtrain, Xtest, ytrain, ytest = train_test_split(faces, labels)\n",
    "print(len(Xtrain))\n",
    "print(len(Xtest))\n",
    "print(ytrain)\n",
    "print(ytest)\n",
    "print(label_names)\n"
   ]
  },
  {
   "cell_type": "code",
   "execution_count": null,
   "metadata": {
    "collapsed": true
   },
   "outputs": [],
   "source": [
    "face_recognizer.train(Xtrain, np.array(ytrain))"
   ]
  },
  {
   "cell_type": "code",
   "execution_count": null,
   "metadata": {
    "collapsed": true
   },
   "outputs": [],
   "source": [
    "#function to draw rectangle on image \n",
    "#according to given (x, y) coordinates and \n",
    "#given width and heigh\n",
    "def draw_rectangle(img, rect):\n",
    "    (x, y, w, h) = rect\n",
    "    cv2.rectangle(img, (x, y), (x+w, y+h), (0, 255, 0), 2)\n",
    " \n",
    "#function to draw text on give image starting from\n",
    "#passed (x, y) coordinates. \n",
    "def draw_text(img, text, x, y):\n",
    "     cv2.putText(img, text, (x, y), cv2.FONT_HERSHEY_PLAIN, 1.5, (0, 255, 0), 2)"
   ]
  },
  {
   "cell_type": "code",
   "execution_count": null,
   "metadata": {
    "collapsed": true
   },
   "outputs": [],
   "source": [
    "#this function recognizes the person in image passed\n",
    "#and draws a rectangle around detected face with name of the \n",
    "#subject\n",
    "def predict(test_face):\n",
    "    #make a copy of the image as we don't want to change original image\n",
    "    #img = test_img.copy()\n",
    "    #detect face from the image\n",
    "    #face, rect = detect_face(img, faceCascade_default, False) #lbp_frontfaceCascade)\n",
    "    #if(face is not None):\n",
    "        #predict the image using our face recognizer \n",
    "        label= face_recognizer.predict(test_face)\n",
    "        #get name of respective label returned by face recognizer\n",
    "        #print(label[0])\n",
    "        label_text = label_names[label[0]]\n",
    "\n",
    "        #draw a rectangle around face detected\n",
    "        #draw_rectangle(test_face, rect)\n",
    "        #draw name of predicted person\n",
    "        #draw_text(img, label_text, rect[0], rect[1]-5)\n",
    "\n",
    "        return img, label_text\n",
    "    #else:\n",
    "        #return None, None"
   ]
  },
  {
   "cell_type": "code",
   "execution_count": null,
   "metadata": {},
   "outputs": [],
   "source": [
    "faceCascade_default = cv2.CascadeClassifier(frontface_default_cascade)\n",
    "faceCascade_alt = cv2.CascadeClassifier(frontface_alt_cascade)\n",
    "faceCascade_alt2 = cv2.CascadeClassifier(frontface_alt2_cascade)\n",
    "faceCascade_alt_tree = cv2.CascadeClassifier(frontface_alt_tree_cascade)\n",
    "\n",
    "print(\"Predicting images...\")\n",
    "test_labels = []\n",
    "pred_labels = []\n",
    "'''\n",
    "for imgfolder in os.listdir('val/'): #iterate thru each of the 5 celeb folders\n",
    "    for filename in os.listdir('val/' + imgfolder):# iterate thru each image in a celeb folder\n",
    "        if(filename.endswith('.jpg')):\n",
    "            file_ = 'val/' + imgfolder + '/' + filename # build the path to the image file\n",
    "            #for file_ in detectedimages:\n",
    "            #perform a prediction\n",
    "            img = cv2.imread(file_)\n",
    "            '''\n",
    "i = -1\n",
    "for img in Xtest:\n",
    "    i = i + 1\n",
    "    predicted_img1, pred_label = predict(img)\n",
    "    #if(predicted_img1 is not None):\n",
    "    test_labels.append(label_names[ytest[i]])\n",
    "    #print(pred_label)\n",
    "    pred_labels.append(pred_label)\n",
    "    plt.imshow(predicted_img1, cmap = 'gray', interpolation = 'bicubic') # display all images read\n",
    "    plt.xticks([]), plt.yticks([])\n",
    "    plt.show()\n",
    "    #else:\n",
    "        #print(\"Prediction failed for %s\" %img)\n",
    "print(\"Prediction complete\")\n",
    "\n"
   ]
  },
  {
   "cell_type": "code",
   "execution_count": null,
   "metadata": {},
   "outputs": [],
   "source": [
    "print(test_labels)\n",
    "print(pred_labels)\n",
    "\n",
    "from sklearn.metrics import accuracy_score\n",
    "accuracy_score(test_labels, pred_labels)"
   ]
  },
  {
   "cell_type": "code",
   "execution_count": null,
   "metadata": {},
   "outputs": [],
   "source": [
    "from sklearn.metrics import confusion_matrix\n",
    "confusion_matrix(test_labels, pred_labels)"
   ]
  },
  {
   "cell_type": "code",
   "execution_count": null,
   "metadata": {
    "collapsed": true
   },
   "outputs": [],
   "source": [
    "#TODO\n",
    "# 1. Use different combination of the cascades (both Haar and Lbp with different scale factor) to see\n",
    "# ... if we can increase the detection accuracy i.e detect faces in more images in both training \n",
    "# ... validation set\n",
    "\n",
    "# 2. Use different combination of Recognizers (Eigenfaces, Fisherfaces and Lbphfaces) to see if we can\n",
    "# ... improve the classification accuracy\n",
    "\n",
    "# 3. Review data to see what causes some of the missed detection and incorrect recognition? Can we manually \n",
    "# ... do some kind of image transformation to imporve it. \n",
    "\n",
    "# 4. For detection can we build a validation curve for each of the Cascades? The cascades have different\n",
    "#... values for precision and recall. Can we find the cascade or ensemble of cascades that works well\n",
    "#... in out dataset? Also which cascade gives the best bang for the CPU power even if the accuracy \n",
    "# ... is low.\n",
    "\n",
    "# 5. In the recognition. Is the lower accuracy due to underfitting? How does the learning curve look\n",
    "# ... like for each of the recognizers? Will a bigger data set improve the fit. Will an ensemble of\n",
    "# ... recognizers improve the fit? \n",
    "\n",
    "#6. Which cascade (detector) generalizes well across different dataset? Shall we apply it on the \n",
    "#  ... employee dataset?"
   ]
  }
 ],
 "metadata": {
  "kernelspec": {
   "display_name": "Python 3",
   "language": "python",
   "name": "python3"
  },
  "language_info": {
   "codemirror_mode": {
    "name": "ipython",
    "version": 3
   },
   "file_extension": ".py",
   "mimetype": "text/x-python",
   "name": "python",
   "nbconvert_exporter": "python",
   "pygments_lexer": "ipython3",
   "version": "3.6.3"
  }
 },
 "nbformat": 4,
 "nbformat_minor": 2
}
